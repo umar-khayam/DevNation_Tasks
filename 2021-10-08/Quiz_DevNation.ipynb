{
 "cells": [
  {
   "cell_type": "markdown",
   "id": "cb0ca724",
   "metadata": {},
   "source": [
    "Q1. Create a function add_numbers which takes 4 parameters\n",
    "1. x (integer)\n",
    "2. y (integer)\n",
    "3. z (integer)\n",
    "4. flag (Boolean)\n",
    "z and flag are optional parameters\n",
    "if function receives z then function should return the sum of x y and z else\n",
    "return the sum of x and y\n",
    "if flag is True also print the statement\n",
    "“Flag is True”"
   ]
  },
  {
   "cell_type": "code",
   "execution_count": 158,
   "id": "af0e81a5",
   "metadata": {},
   "outputs": [
    {
     "name": "stdout",
     "output_type": "stream",
     "text": [
      "Flag is True\n"
     ]
    },
    {
     "data": {
      "text/plain": [
       "25"
      ]
     },
     "execution_count": 158,
     "metadata": {},
     "output_type": "execute_result"
    }
   ],
   "source": [
    "def add_numbers(x,y,z=0,flag=False):\n",
    "    if z==0:\n",
    "        if flag:\n",
    "            print('Flag is True')\n",
    "        return x+y\n",
    "    if flag:\n",
    "        print('Flag is True')\n",
    "    return x+y+z\n",
    "add_numbers(10,10,5,True)"
   ]
  },
  {
   "cell_type": "markdown",
   "id": "f5dc4602",
   "metadata": {},
   "source": [
    "Q2. Write a function get_datetime(int) that takes a param number_of_days and\n",
    "if the number is divisible by 2 returns (current_datetime + number_of_days) and\n",
    "if number is divisible by 3 returns (current_datetime - number_of_days)\n",
    "else return current_datetime"
   ]
  },
  {
   "cell_type": "code",
   "execution_count": 207,
   "id": "134a346d",
   "metadata": {},
   "outputs": [
    {
     "name": "stdout",
     "output_type": "stream",
     "text": [
      "2021-10-09 09:16:12.729626\n"
     ]
    },
    {
     "data": {
      "text/plain": [
       "datetime.datetime(2021, 10, 19, 9, 16, 12, 729954)"
      ]
     },
     "execution_count": 207,
     "metadata": {},
     "output_type": "execute_result"
    }
   ],
   "source": [
    "from datetime import datetime\n",
    "from datetime import timedelta\n",
    "\n",
    "def get_datetime(number_of_days):\n",
    "    date=datetime.today()\n",
    "    \n",
    "    if number_of_days%2==0:\n",
    "        return date+timedelta(days=number_of_days) \n",
    "    \n",
    "    elif number_of_days%2!=0:\n",
    "        return date-timedelta(days=number_of_days) \n",
    "    \n",
    "    else:\n",
    "        return date\n",
    "    \n",
    "print(datetime.today())\n",
    "get_datetime(10)"
   ]
  },
  {
   "cell_type": "markdown",
   "id": "ceb24f40",
   "metadata": {},
   "source": [
    "Q3. Write a function concat_lst that takes two list as a parameter and combine two list together into single list\n",
    "and should not contains duplicate values.\n",
    "You must use loop to solve this question"
   ]
  },
  {
   "cell_type": "code",
   "execution_count": 210,
   "id": "b8220d00",
   "metadata": {},
   "outputs": [
    {
     "data": {
      "text/plain": [
       "[3, 4, 5, 2, 1, 6]"
      ]
     },
     "execution_count": 210,
     "metadata": {},
     "output_type": "execute_result"
    }
   ],
   "source": [
    "def concat_lst(list_1,list_2):\n",
    "    list_3=[]\n",
    "    for i in list_1:\n",
    "        if i not in list_3:\n",
    "            list_3.append(i)\n",
    "    \n",
    "    for j in list_2:\n",
    "        if j not in list_3:\n",
    "            list_3.append(j)\n",
    "            \n",
    "    return list_3\n",
    "concat_lst([3,4,5,3],[4,5,3,2,1,5,6])"
   ]
  },
  {
   "cell_type": "markdown",
   "id": "41553ad4",
   "metadata": {},
   "source": [
    "Q4. Write a function string_case using map that takes list of characters and return\n",
    "List of tuples with containing lower and upper case of that character’s list\n",
    "Final Output must contain unique tuple element"
   ]
  },
  {
   "cell_type": "code",
   "execution_count": 219,
   "id": "aa8abada",
   "metadata": {},
   "outputs": [
    {
     "data": {
      "text/plain": [
       "[('C', 'c'), ('A', 'a'), ('B', 'b')]"
      ]
     },
     "execution_count": 219,
     "metadata": {},
     "output_type": "execute_result"
    }
   ],
   "source": [
    "def map_fun(a):\n",
    "    return (a.upper(),a.lower())\n",
    "def string_case(char_list):\n",
    "    a=list(set(tuple(map(lambda i: map_fun(i),char_list))))\n",
    "    return a\n",
    "string_case(['a','b','c','a'])"
   ]
  },
  {
   "cell_type": "markdown",
   "id": "67e2c765",
   "metadata": {},
   "source": [
    "Q5. Write a function get_city_mpg_avg, that groups the cars by number of cylinders, and\n",
    "finding the average cty mpg for each group.\n",
    "Output should be in the list of tuples\n",
    "Output = [ (5,20),(4,18),(3,16) ]\n",
    "Note:\n",
    "1. Use MPG.csv file\n",
    "2. First index of tuple shows the number of cylinders and second index shows the average\n",
    "3. Result should be sorted by first tuple index by using lambda functions"
   ]
  },
  {
   "cell_type": "code",
   "execution_count": 362,
   "id": "9e5d6988",
   "metadata": {},
   "outputs": [
    {
     "data": {
      "text/plain": [
       "[(4, 21.012345679012345),\n",
       " (5, 20.5),\n",
       " (6, 16.21518987341772),\n",
       " (8, 12.571428571428571)]"
      ]
     },
     "execution_count": 362,
     "metadata": {},
     "output_type": "execute_result"
    }
   ],
   "source": [
    "import pandas as pnd\n",
    "import numpy as np\n",
    "data=pnd.read_csv('mpg.csv')\n",
    "\n",
    "def get_city_avg():\n",
    "    result=[]\n",
    "    dat=data.groupby(['cyl'])\n",
    "    for i,j in dat:\n",
    "        d=pnd.DataFrame(data=j)\n",
    "        avg=np.sum(d['cty'])/len(d['cty'])\n",
    "        result.append((i,avg))\n",
    "    result.sort(key=lambda i:i[0])\n",
    "    return result\n",
    "\n",
    "get_city_avg()"
   ]
  },
  {
   "cell_type": "markdown",
   "id": "94160cf9",
   "metadata": {},
   "source": [
    "Q6. Write a function get_hwy_mpg_avg find the average hwy mpg for each class of vehicle\n",
    "Hwy mpg means highway mileage\n",
    "1. Use MPG.csv file\n",
    "2. Hwy mpg is found as hwy column in a file\n",
    "3. Vehicle class is found as class column in a file\n",
    "4. Sort Hwy Mpg in ascending order\n",
    "Output sample: [('pickup', 16.88),('suv', 18.13),('minivan', 22.36),('2seater', 24.80),('midsize', 27.29),\n",
    "('subcompact', 28.14), ('compact', 28.30)]"
   ]
  },
  {
   "cell_type": "code",
   "execution_count": 363,
   "id": "234de345",
   "metadata": {},
   "outputs": [
    {
     "data": {
      "text/plain": [
       "[('pickup', 16.87878787878788),\n",
       " ('suv', 18.129032258064516),\n",
       " ('minivan', 22.363636363636363),\n",
       " ('2seater', 24.8),\n",
       " ('midsize', 27.29268292682927),\n",
       " ('subcompact', 28.142857142857142),\n",
       " ('compact', 28.29787234042553)]"
      ]
     },
     "execution_count": 363,
     "metadata": {},
     "output_type": "execute_result"
    }
   ],
   "source": [
    "data=pnd.read_csv('mpg.csv')\n",
    "\n",
    "def get_hwy_mpg_avg():\n",
    "    result=[]\n",
    "    dat=data.groupby(['class'])\n",
    "    for i,j in dat:\n",
    "        d=pnd.DataFrame(data=j)\n",
    "        avg=np.sum(d['hwy'])/len(d['hwy'])\n",
    "        result.append((i,avg))\n",
    "    result.sort(key=lambda i:i[1])\n",
    "    return result\n",
    "\n",
    "get_hwy_mpg_avg()"
   ]
  },
  {
   "cell_type": "markdown",
   "id": "57f8e3eb",
   "metadata": {},
   "source": [
    "Q7. Create a class Student with the following getters and setters\n",
    "1. Constructor\n",
    "a. Create an Object with following parameters\n",
    "i. Name\n",
    "ii. Batch No\n",
    "iii. Address\n",
    "iv. Age\n",
    "v. Father Name\n",
    "vi. City\n",
    "\n",
    "2. New\n",
    "a. Students with age more than 18 are not allowed in the school\n",
    "b. Students of Lahore Islamabad Faisalabad Karachi are allowed\n",
    "3. Setters\n",
    "a. Name (str)\n",
    "b. Batch no (int)\n",
    "c. Address (str)\n",
    "d. Age (str)\n",
    "e. Father name (str)\n",
    "f. City (str)\n",
    "4. Getters\n",
    "a. Name\n",
    "b. Batch no\n",
    "c. Address\n",
    "d. Age\n",
    "e. Father name\n",
    "f. City\n",
    "5. Create a new class called DevnationStudents which is a child class of Student\n",
    "a. Write a constructor that\n",
    "i. That calls the Parent Class Constructor\n",
    "ii. Also save courses and marks as empty list in the child constructor\n",
    "b. Write setter functions\n",
    "i. Add courses\n",
    "1. Takes a list of courses\n",
    "2. Add only those courses in the list which are not already in the\n",
    "ii. Add courses_marks\n",
    "1. This takes the list of dictionaries\n",
    "2. If the particular exists in the courses lists then the particular dictionary\n",
    "should be added in the marks list\n",
    "3. Marks list should not contains duplicate entries of same courses\n",
    "\n",
    "c. Write getter functions\n",
    "i. Get courses\n",
    "ii. Get Marks"
   ]
  },
  {
   "cell_type": "code",
   "execution_count": 645,
   "id": "bf0c2dc5",
   "metadata": {},
   "outputs": [],
   "source": [
    "class Student:\n",
    "    def __new__(cls,name, batch_no, address, age, father_name, city):\n",
    "        city_list=['Lahore', 'Islamabad', 'Faisalabad', 'Karachi']\n",
    "        if age>18 or city not in city_list:\n",
    "            print('You are not allowed')\n",
    "            pass\n",
    "        else:\n",
    "            inst=object.__new__(cls)\n",
    "            return inst\n",
    "       \n",
    "    def __init__(self, name, batch_no, address, age, father_name, city):\n",
    "        self.name=name\n",
    "        self.batch_no=batch_no\n",
    "        self.address=address\n",
    "        self.age=age\n",
    "        self.father_name=father_name\n",
    "        self.city=city\n",
    "    \n",
    "    #Setter\n",
    "    def set_name(self,name):\n",
    "        self.name=name\n",
    "    \n",
    "    def set_batch_no(self,batch_no):\n",
    "        self.batch_no=batch_no\n",
    "    \n",
    "    def set_address(self,address):\n",
    "        self.address=address\n",
    "    \n",
    "    def set_age(self,age):\n",
    "        self.age=age\n",
    "    \n",
    "    def set_father_name(self,father_name):\n",
    "        self.father_name=father_name\n",
    "    \n",
    "    def set_city(self,city):\n",
    "        self.city=city\n",
    "        \n",
    "    #Getter\n",
    "    \n",
    "    def get_name(self):\n",
    "        return self.name\n",
    "    \n",
    "    def get_batch_no(self):\n",
    "        return self.batch_no\n",
    "    \n",
    "    def get_address(self):\n",
    "        return self.address\n",
    "    \n",
    "    def get_age(self):\n",
    "        return self.age\n",
    "    \n",
    "    def get_father_name(self):\n",
    "        return self.father_name\n",
    "    \n",
    "    def get_city(self):\n",
    "        return self.city"
   ]
  },
  {
   "cell_type": "markdown",
   "id": "d9588ab5",
   "metadata": {},
   "source": [
    "- Create a new class called DevnationStudents which is a child class of Student a. Write a constructor that i. That calls the Parent Class Constructor ii. Also save courses and marks as empty list in the child constructor b. Write setter functions i. Add courses\n",
    "- Takes a list of courses\n",
    "- Add only those courses in the list which are not already in the ii. Add courses_marks\n",
    "- This takes the list of dictionaries\n",
    "- If the particular exists in the courses lists then the particular dictionary should be added in the marks list\n",
    "- Marks list should not contains duplicate entries of same courses\n",
    "- Write getter functions i. Get courses ii. Get Marks"
   ]
  },
  {
   "cell_type": "code",
   "execution_count": 646,
   "id": "f418ba2a",
   "metadata": {},
   "outputs": [],
   "source": [
    "class DevnationStudent(Student):\n",
    "    def __init__(self,name, batch_no, address, age, father_name, city, courses=[], marks=[]):\n",
    "        super().__init__(name, batch_no, address, age, father_name, city)\n",
    "        self.courses=courses\n",
    "        self.marks=marks\n",
    "    \n",
    "    def set_courses(self,courses):\n",
    "        for i in courses:\n",
    "            if i not in self.courses:\n",
    "                self.courses.append(i)\n",
    "    \n",
    "    def set_marks(self,marks):\n",
    "        for i in marks:\n",
    "            a=i['Course']\n",
    "            if a in self.courses:\n",
    "                if self.marks:\n",
    "                    for j in self.marks:\n",
    "                        b=j['Course']\n",
    "                        if a==b:\n",
    "                            self.marks.remove(j)\n",
    "                self.marks.append(i)\n",
    "            \n",
    "        \n",
    "    def get_course(self): \n",
    "        return self.courses\n",
    "    \n",
    "    def get_marks(self): \n",
    "        return self.marks\n",
    "    "
   ]
  },
  {
   "cell_type": "code",
   "execution_count": 649,
   "id": "f8bfaec2",
   "metadata": {},
   "outputs": [
    {
     "name": "stdout",
     "output_type": "stream",
     "text": [
      "You are not allowed\n"
     ]
    },
    {
     "data": {
      "text/plain": [
       "[{'Course': 'PF', 'Marks': 70}, {'Course': 'ICT', 'Marks': 100}]"
      ]
     },
     "execution_count": 649,
     "metadata": {},
     "output_type": "execute_result"
    }
   ],
   "source": [
    "obj1=DevnationStudent('Umar','July','Pakistan',21,'Rustam Khan','Islamabad')\n",
    "#Second object:\n",
    "obj=DevnationStudent('Umar','July','Pakistan',18,'Rustam Khan','Islamabad')\n",
    "obj.set_courses(['ICT','PF'])\n",
    "obj.set_marks([{'Course':'ICT','Marks':60},{'Course':'PF','Marks':70},{'Course':'OOP','Marks':90},{'Course':'ICT','Marks':100}])\n",
    "obj.get_marks()"
   ]
  },
  {
   "cell_type": "markdown",
   "id": "ae15cb39",
   "metadata": {},
   "source": [
    "Q8. Write a function get_indices that receives the list of integers nums and an integer target, return indices of\n",
    "the two numbers such that they add up to target. You may assume that each input would have exactly one\n",
    "solution, and you may not use the same element twice.\n",
    "You can return the answer in any order.\n",
    "Example 1:\n",
    "Input: nums = [2,7,11,15], target = 9\n",
    "Output: [0,1]\n",
    "Output: Because nums[0] + nums[1] == 9, we return [0, 1].\n",
    "Example 2:\n",
    "Input: nums = [3,2,4], target = 6\n",
    "Output: [1,2]"
   ]
  },
  {
   "cell_type": "code",
   "execution_count": 137,
   "id": "ba64ac22",
   "metadata": {},
   "outputs": [
    {
     "data": {
      "text/plain": [
       "[1, 3]"
      ]
     },
     "execution_count": 137,
     "metadata": {},
     "output_type": "execute_result"
    }
   ],
   "source": [
    "def get_indices(num_list,target):\n",
    "    for i in range(len(num_list)):\n",
    "        for j in range(i+1,len(num_list)-1):\n",
    "            if num_list[i]+num_list[j]==target:\n",
    "                return [i,j]\n",
    "                break\n",
    "    return 'Not found'\n",
    "\n",
    "num_list=[3,4,5,2,1]\n",
    "get_indices(num_list,6)"
   ]
  },
  {
   "cell_type": "markdown",
   "id": "d8a3d9f8",
   "metadata": {},
   "source": [
    "Q9. Write a function backward_number. That a receives a number and return the number in backwards\n",
    "Input = 1234\n",
    "Output = 4321"
   ]
  },
  {
   "cell_type": "markdown",
   "id": "f0689a66",
   "metadata": {},
   "source": [
    "- Created a method called reverse which take a parameter number.\n",
    "- Rev=0 Created a varibale rev which will store rev numebr.\n",
    "- While loop until number is > 0 \n",
    "- N=num%10 In Which will get reminder if we give a number 1234 in fisrt we will get 4\n",
    "- Rev=rev*10+n in this fisrt rev will 0 and n is reminder which will add actual rev value and add all for revers a string.\n",
    "- Num=num//10 for eliminating the last of num"
   ]
  },
  {
   "cell_type": "code",
   "execution_count": 17,
   "id": "48d5fcf7",
   "metadata": {},
   "outputs": [
    {
     "name": "stdout",
     "output_type": "stream",
     "text": [
      "4321\n"
     ]
    }
   ],
   "source": [
    "def reverse(num):\n",
    "    rev=0\n",
    "    while num>0:\n",
    "        n=num%10 \n",
    "        rev=rev*10+n \n",
    "        num=num//10 \n",
    "    return rev\n",
    "\n",
    "print(reverse(1234))"
   ]
  },
  {
   "cell_type": "markdown",
   "id": "2ea04a2e",
   "metadata": {},
   "source": [
    "Q10. Create a function remove_duplication that takes a list and remove duplication from list."
   ]
  },
  {
   "cell_type": "code",
   "execution_count": 94,
   "id": "a33be08f",
   "metadata": {},
   "outputs": [
    {
     "data": {
      "text/plain": [
       "[2, 3, 5, 4, 6, 7]"
      ]
     },
     "execution_count": 94,
     "metadata": {},
     "output_type": "execute_result"
    }
   ],
   "source": [
    "def remove_duplication(num_list):\n",
    "    a=[]\n",
    "    for i in num_list:\n",
    "        if i not in a:\n",
    "            a.append(i)\n",
    "    num_list=a\n",
    "    return num_list\n",
    "num_list=[2,3,3,2,5,5,4,4,4,4,6,7]\n",
    "remove_duplication(num_list)"
   ]
  },
  {
   "cell_type": "code",
   "execution_count": null,
   "id": "3744171b",
   "metadata": {},
   "outputs": [],
   "source": []
  }
 ],
 "metadata": {
  "kernelspec": {
   "display_name": "Python 3",
   "language": "python",
   "name": "python3"
  },
  "language_info": {
   "codemirror_mode": {
    "name": "ipython",
    "version": 3
   },
   "file_extension": ".py",
   "mimetype": "text/x-python",
   "name": "python",
   "nbconvert_exporter": "python",
   "pygments_lexer": "ipython3",
   "version": "3.8.8"
  }
 },
 "nbformat": 4,
 "nbformat_minor": 5
}
