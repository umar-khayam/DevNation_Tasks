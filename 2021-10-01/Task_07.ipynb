{
 "cells": [
  {
   "cell_type": "code",
   "execution_count": 1,
   "id": "b6d66a57",
   "metadata": {},
   "outputs": [],
   "source": [
    "class Node:\n",
    "    def __init__(self,data):\n",
    "        self.data=data\n",
    "        self.next=None\n",
    "        self.prev=None"
   ]
  },
  {
   "cell_type": "code",
   "execution_count": 23,
   "id": "163205da",
   "metadata": {},
   "outputs": [],
   "source": [
    "class Linked_list:\n",
    "    def __init__(self):\n",
    "        self.head=None\n",
    "    \n",
    "    def traverse(self):\n",
    "        temp_node=self.head\n",
    "        while temp_node:\n",
    "            print(temp_node.data,end=' ')\n",
    "            temp_node=temp_node.next\n",
    "        \n",
    "    def insert_at_begining(self,data):\n",
    "        new_node=Node(data)\n",
    "        new_node.next=self.head\n",
    "        if self.head is not None:\n",
    "            self.head.prev=new_node\n",
    "        self.head=new_node\n",
    "    \n",
    "    def insert_after_index(self,index,data):\n",
    "        count=0\n",
    "        temp_node = self.head\n",
    "        while temp_node is not None:\n",
    "            if count == index:\n",
    "                break\n",
    "            count+=1\n",
    "            temp_node = temp_node.next\n",
    "        if temp_node is None:\n",
    "            print(\"Index is exceeding\")\n",
    "            return\n",
    "        \n",
    "        new_node = Node(data)\n",
    "        new_node.prev= temp_node\n",
    "        new_node.next = temp_node.next\n",
    "        if temp_node.next is not None:\n",
    "              temp_node.next.prev = new_node\n",
    "        temp_node.next = new_node\n",
    "        \n",
    "    def insert_at_end(self, data):\n",
    "        temp_node=self.head\n",
    "        new_node=Node(data)\n",
    "        \n",
    "        while(temp_node.next):\n",
    "            temp_node=temp_node.next\n",
    "        temp_node.next=new_node\n",
    "        new_node.prev=temp_node"
   ]
  },
  {
   "cell_type": "code",
   "execution_count": 24,
   "id": "d7a89d16",
   "metadata": {},
   "outputs": [
    {
     "name": "stdout",
     "output_type": "stream",
     "text": [
      "6 10 5 4 2 "
     ]
    }
   ],
   "source": [
    "lis=Linked_list()\n",
    "lis.insert_at_begining(4)\n",
    "lis.insert_at_begining(5)\n",
    "lis.insert_at_begining(6)\n",
    "lis.insert_after_index(0,10)\n",
    "lis.insert_at_end(2)\n",
    "lis.traverse()"
   ]
  },
  {
   "cell_type": "code",
   "execution_count": null,
   "id": "f6754ef2",
   "metadata": {},
   "outputs": [],
   "source": []
  }
 ],
 "metadata": {
  "kernelspec": {
   "display_name": "Python 3",
   "language": "python",
   "name": "python3"
  },
  "language_info": {
   "codemirror_mode": {
    "name": "ipython",
    "version": 3
   },
   "file_extension": ".py",
   "mimetype": "text/x-python",
   "name": "python",
   "nbconvert_exporter": "python",
   "pygments_lexer": "ipython3",
   "version": "3.8.8"
  }
 },
 "nbformat": 4,
 "nbformat_minor": 5
}
