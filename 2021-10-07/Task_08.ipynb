{
 "cells": [
  {
   "cell_type": "code",
   "execution_count": 1,
   "id": "a12a5f88",
   "metadata": {},
   "outputs": [],
   "source": [
    "class Node:\n",
    "    def __init__(self,data):\n",
    "        self.next=None\n",
    "        self.data=data"
   ]
  },
  {
   "cell_type": "code",
   "execution_count": 47,
   "id": "c0647b3d",
   "metadata": {},
   "outputs": [],
   "source": [
    "class CircularLinkedList:\n",
    "    def __init__(self):\n",
    "        self.head=None\n",
    "    \n",
    "    def insert_in_biginning(self,data):\n",
    "        data_node=Node(data)\n",
    "        data_node.next=self.head\n",
    "        if self.head is None:\n",
    "            data_node.next=data_node\n",
    "            self.head=data_node\n",
    "            return\n",
    "        \n",
    "        temp=self.head\n",
    "        while temp.next!=self.head:\n",
    "            temp=temp.next\n",
    "        temp.next=data_node\n",
    "        self.head=data_node\n",
    "    \n",
    "    def traverse(self):\n",
    "        temp=self.head\n",
    "        if self.head is not None:\n",
    "            while True:\n",
    "                print(temp.data)\n",
    "                temp=temp.next\n",
    "                if temp==self.head:\n",
    "                    break\n",
    "    \n",
    "    def insert_in_end(self,data):\n",
    "        data_node=Node(data)\n",
    "        temp=self.head\n",
    "        if self.head is not None:\n",
    "            while temp.next!=self.head:\n",
    "                temp=temp.next\n",
    "            temp.next=data_node\n",
    "            temp=data_node\n",
    "            temp.next=self.head\n",
    "    \n",
    "    def insert_at_position(self,data,index):\n",
    "        if self.count()<index:\n",
    "            return\n",
    "        count=0\n",
    "        temp=self.head\n",
    "        data_node=Node(data)\n",
    "        while temp.next!=self.head:\n",
    "            count+=1\n",
    "            if count==index:\n",
    "                break\n",
    "            temp=temp.next\n",
    "        data_node.next=temp.next\n",
    "        temp.next=data_node\n",
    "                \n",
    "            \n",
    "    def count(self):\n",
    "        if self.head is not None:\n",
    "            temp=self.head\n",
    "            count=0\n",
    "            while(temp.next!=self.head):\n",
    "                count+=1\n",
    "                temp=temp.next\n",
    "            return count\n",
    "        return 0"
   ]
  },
  {
   "cell_type": "code",
   "execution_count": 56,
   "id": "93eefd48",
   "metadata": {},
   "outputs": [
    {
     "name": "stdout",
     "output_type": "stream",
     "text": [
      "8\n",
      "7\n",
      "6\n",
      "5\n",
      "4\n",
      "5\n"
     ]
    }
   ],
   "source": [
    "lis=CircularLinkedList()\n",
    "lis.insert_in_biginning(5)\n",
    "lis.insert_in_biginning(6)\n",
    "lis.insert_in_biginning(7)\n",
    "lis.insert_in_biginning(8)\n",
    "lis.insert_in_end(4)\n",
    "lis.insert_in_end(5)\n",
    "lis.insert_at_position(4,7)\n",
    "lis.traverse()"
   ]
  },
  {
   "cell_type": "code",
   "execution_count": null,
   "id": "9d5e3d55",
   "metadata": {},
   "outputs": [],
   "source": []
  },
  {
   "cell_type": "code",
   "execution_count": null,
   "id": "a03b8984",
   "metadata": {},
   "outputs": [],
   "source": []
  }
 ],
 "metadata": {
  "kernelspec": {
   "display_name": "Python 3",
   "language": "python",
   "name": "python3"
  },
  "language_info": {
   "codemirror_mode": {
    "name": "ipython",
    "version": 3
   },
   "file_extension": ".py",
   "mimetype": "text/x-python",
   "name": "python",
   "nbconvert_exporter": "python",
   "pygments_lexer": "ipython3",
   "version": "3.8.8"
  }
 },
 "nbformat": 4,
 "nbformat_minor": 5
}
