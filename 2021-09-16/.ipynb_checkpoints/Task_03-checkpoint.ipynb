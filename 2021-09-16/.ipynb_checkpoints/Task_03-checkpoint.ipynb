{
 "cells": [
  {
   "cell_type": "markdown",
   "id": "c87f4738",
   "metadata": {},
   "source": [
    "# Task 03"
   ]
  },
  {
   "cell_type": "code",
   "execution_count": 1,
   "id": "2772a0fb",
   "metadata": {},
   "outputs": [],
   "source": [
    "class Student:\n",
    "    #Constructor\n",
    "    def __init__(self,name,batch_no,address):\n",
    "        self.name=name\n",
    "        self.batch_no=batch_no\n",
    "        self.address=address\n",
    "        \n",
    "    #Setter function\n",
    "    def set_name(self,name):\n",
    "        self.name=name\n",
    "    def set_batch_no(self,batch_no):\n",
    "        self.batch_no=batch_no\n",
    "    def set_address(self,address):\n",
    "        self.address=address\n",
    "        \n",
    "    #Getter function\n",
    "    def get_name(self):\n",
    "        return self.name\n",
    "    def get_batch_no(self):\n",
    "        return self.batch_no\n",
    "    def get_address(self):\n",
    "        return self.address"
   ]
  },
  {
   "cell_type": "code",
   "execution_count": 40,
   "id": "76798036",
   "metadata": {},
   "outputs": [
    {
     "name": "stdout",
     "output_type": "stream",
     "text": [
      "[{'course': 'Datascience', 'marks': 40}, {'course': 'Python', 'marks': 40}]\n",
      "['Datascience', 'Python', 'C']\n"
     ]
    }
   ],
   "source": [
    "class DevnationStudent(Student):\n",
    "    #Constructor\n",
    "    def __init__(self,name,batch_no,address,courses=[],marks=[]):\n",
    "        Student.__init__(self,name,batch_no,address)\n",
    "        self.courses=courses\n",
    "        self.marks=marks\n",
    "        \n",
    "    #Setter\n",
    "    def set_courses(self,lis):\n",
    "        for i in lis:\n",
    "            if i not in self.courses:\n",
    "                self.courses.append(i)\n",
    "    \n",
    "    def set_marks(self,dic):\n",
    "        for i in dic:\n",
    "            a=i['course']\n",
    "            if a in self.courses:\n",
    "                for j in self.marks:\n",
    "                    c=j['course']\n",
    "                    if c==a:\n",
    "                        self.marks.remove(j)\n",
    "                        self.marks.append(i)\n",
    "    #Getter\n",
    "    def get_courses(self):\n",
    "        return self.courses\n",
    "    def get_marks(self):\n",
    "        return self.marks\n",
    "\n",
    "#Object child class\n",
    "s1=DevnationStudent('Umar',3,'Hazro',[\"Datascience\",'Python','C'],[{'course':'Datascience','marks':50},{'course':'Python','marks':50}])\n",
    "s1.set_marks([{'course':'Datascience','marks':40},{'course':'Python','marks':40},{'course':'C++','marks':40}])\n",
    "print(s1.get_marks())\n",
    "print(s1.get_courses())"
   ]
  }
 ],
 "metadata": {
  "kernelspec": {
   "display_name": "Python 3",
   "language": "python",
   "name": "python3"
  },
  "language_info": {
   "codemirror_mode": {
    "name": "ipython",
    "version": 3
   },
   "file_extension": ".py",
   "mimetype": "text/x-python",
   "name": "python",
   "nbconvert_exporter": "python",
   "pygments_lexer": "ipython3",
   "version": "3.8.8"
  }
 },
 "nbformat": 4,
 "nbformat_minor": 5
}
