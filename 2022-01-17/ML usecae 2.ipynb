{
 "cells": [
  {
   "cell_type": "code",
   "execution_count": 189,
   "id": "781a9fca",
   "metadata": {},
   "outputs": [],
   "source": [
    "import numpy as np\n",
    "import pandas as pd\n",
    "from sklearn.datasets import load_breast_cancer\n",
    "from sklearn.model_selection import train_test_split\n",
    "from sklearn.neighbors import KNeighborsClassifier\n",
    "from sklearn.metrics import accuracy_score"
   ]
  },
  {
   "cell_type": "code",
   "execution_count": 144,
   "id": "101984d5",
   "metadata": {},
   "outputs": [],
   "source": [
    "cancer=load_breast_cancer()"
   ]
  },
  {
   "cell_type": "markdown",
   "id": "aa92cb10",
   "metadata": {},
   "source": [
    "# Question 00"
   ]
  },
  {
   "cell_type": "code",
   "execution_count": 190,
   "id": "aedb5263",
   "metadata": {},
   "outputs": [
    {
     "data": {
      "text/plain": [
       "30"
      ]
     },
     "execution_count": 190,
     "metadata": {},
     "output_type": "execute_result"
    }
   ],
   "source": [
    "def features():\n",
    "    return len(cancer.feature_names)\n",
    "features()"
   ]
  },
  {
   "cell_type": "markdown",
   "id": "10ee3a21",
   "metadata": {},
   "source": [
    "# Question 01"
   ]
  },
  {
   "cell_type": "code",
   "execution_count": 191,
   "id": "32eefa23",
   "metadata": {},
   "outputs": [
    {
     "data": {
      "text/plain": [
       "((569, 31),\n",
       " Index(['mean radius', 'mean texture', 'mean perimeter', 'mean area',\n",
       "        'mean smoothness', 'mean compactness', 'mean concavity',\n",
       "        'mean concave points', 'mean symmetry', 'mean fractal dimension',\n",
       "        'radius error', 'texture error', 'perimeter error', 'area error',\n",
       "        'smoothness error', 'compactness error', 'concavity error',\n",
       "        'concave points error', 'symmetry error', 'fractal dimension error',\n",
       "        'worst radius', 'worst texture', 'worst perimeter', 'worst area',\n",
       "        'worst smoothness', 'worst compactness', 'worst concavity',\n",
       "        'worst concave points', 'worst symmetry', 'worst fractal dimension',\n",
       "        'target'],\n",
       "       dtype='object'),\n",
       " RangeIndex(start=0, stop=569, step=1))"
      ]
     },
     "execution_count": 191,
     "metadata": {},
     "output_type": "execute_result"
    }
   ],
   "source": [
    "def data_info():\n",
    "    data = np.c_[cancer.data, cancer.target]\n",
    "    columns = np.append(cancer.feature_names, [\"target\"])\n",
    "    data=pd.DataFrame(data,columns=columns)\n",
    "    return data.shape, data.columns, data.index\n",
    "data_info()"
   ]
  },
  {
   "cell_type": "markdown",
   "id": "2d9ad442",
   "metadata": {},
   "source": [
    "# Question 02"
   ]
  },
  {
   "cell_type": "code",
   "execution_count": 192,
   "id": "d7df02db",
   "metadata": {},
   "outputs": [
    {
     "data": {
      "text/plain": [
       "malignant    357\n",
       "benign       212\n",
       "Name: target, dtype: int64"
      ]
     },
     "execution_count": 192,
     "metadata": {},
     "output_type": "execute_result"
    }
   ],
   "source": [
    "def data_target():\n",
    "    count=data['target'].value_counts()\n",
    "    count.index=[\"malignant\", \"benign\"]\n",
    "    return count\n",
    "data_target()"
   ]
  },
  {
   "cell_type": "markdown",
   "id": "7f341f24",
   "metadata": {},
   "source": [
    "# Question 03"
   ]
  },
  {
   "cell_type": "code",
   "execution_count": 152,
   "id": "271cae47",
   "metadata": {},
   "outputs": [
    {
     "data": {
      "text/plain": [
       "('a pandas DataFrame, has shape (569, 30)',\n",
       " 'a pandas Series, has shape (569,)')"
      ]
     },
     "execution_count": 152,
     "metadata": {},
     "output_type": "execute_result"
    }
   ],
   "source": [
    "def x_y():\n",
    "    x=data.iloc[:,:30]\n",
    "    y=data.iloc[:,-1]\n",
    "    return ('a pandas DataFrame, has shape {0}'.format(x.shape),'a pandas Series, has shape {0}'.format(y.shape))\n",
    "x_y()"
   ]
  },
  {
   "cell_type": "markdown",
   "id": "0b45a70b",
   "metadata": {},
   "source": [
    "# Question 04"
   ]
  },
  {
   "cell_type": "code",
   "execution_count": 193,
   "id": "8d7088bd",
   "metadata": {},
   "outputs": [
    {
     "data": {
      "text/plain": [
       "('x_train, has shape (426, 30)',\n",
       " 'x_test, has shape (143, 30)',\n",
       " 'y_train, has shape (426,)',\n",
       " 'y_test, has shape (143,)')"
      ]
     },
     "execution_count": 193,
     "metadata": {},
     "output_type": "execute_result"
    }
   ],
   "source": [
    "def train_test():\n",
    "    x_train, x_test, y_train, y_test=train_test_split(x, y, random_state=0)\n",
    "    return ('x_train, has shape {0}'.format(x_train.shape), 'x_test, has shape {0}'.format(x_test.shape),\n",
    "           'y_train, has shape {0}'.format(y_train.shape), 'y_test, has shape {0}'.format(y_test.shape))\n",
    "train_test()"
   ]
  },
  {
   "cell_type": "markdown",
   "id": "870006ea",
   "metadata": {},
   "source": [
    "# Question 05"
   ]
  },
  {
   "cell_type": "code",
   "execution_count": 194,
   "id": "bf2ecc25",
   "metadata": {},
   "outputs": [
    {
     "data": {
      "text/plain": [
       "KNeighborsClassifier(n_neighbors=1)"
      ]
     },
     "execution_count": 194,
     "metadata": {},
     "output_type": "execute_result"
    }
   ],
   "source": [
    "def model():\n",
    "    neigh = KNeighborsClassifier(n_neighbors=1)\n",
    "    return neigh.fit(x_train, y_train)\n",
    "model()"
   ]
  },
  {
   "cell_type": "markdown",
   "id": "33977737",
   "metadata": {},
   "source": [
    "# Question 06"
   ]
  },
  {
   "cell_type": "code",
   "execution_count": 195,
   "id": "5bb2545c",
   "metadata": {},
   "outputs": [
    {
     "data": {
      "text/plain": [
       "array([1.])"
      ]
     },
     "execution_count": 195,
     "metadata": {},
     "output_type": "execute_result"
    }
   ],
   "source": [
    "def predict():\n",
    "    return neigh.predict(data.mean()[:-1].values.reshape(1, -1))\n",
    "predict()"
   ]
  },
  {
   "cell_type": "markdown",
   "id": "aedd60ab",
   "metadata": {},
   "source": [
    "# Question 07"
   ]
  },
  {
   "cell_type": "code",
   "execution_count": 185,
   "id": "58f1ea25",
   "metadata": {},
   "outputs": [],
   "source": [
    "def predict_x_test(): \n",
    "    count=0\n",
    "    lis=[]\n",
    "    for i in range(1,len(x_test)+1):\n",
    "        lis.append(neigh.predict(x_test.iloc[count:i].values.reshape(1, -1)))\n",
    "        count+=1\n",
    "    np_array = np.array(lis)\n",
    "    return np_array, np_array.shape\n",
    "x_pred, shape=predict_x_test()"
   ]
  },
  {
   "cell_type": "markdown",
   "id": "dd7b34c6",
   "metadata": {},
   "source": [
    "# Question 08"
   ]
  },
  {
   "cell_type": "code",
   "execution_count": 196,
   "id": "fbe7215a",
   "metadata": {},
   "outputs": [
    {
     "data": {
      "text/plain": [
       "0.916083916083916"
      ]
     },
     "execution_count": 196,
     "metadata": {},
     "output_type": "execute_result"
    }
   ],
   "source": [
    "def accurecy(): \n",
    "    return accuracy_score(y_test, x_pred)\n",
    "accurecy()"
   ]
  }
 ],
 "metadata": {
  "kernelspec": {
   "display_name": "Python 3",
   "language": "python",
   "name": "python3"
  },
  "language_info": {
   "codemirror_mode": {
    "name": "ipython",
    "version": 3
   },
   "file_extension": ".py",
   "mimetype": "text/x-python",
   "name": "python",
   "nbconvert_exporter": "python",
   "pygments_lexer": "ipython3",
   "version": "3.8.8"
  }
 },
 "nbformat": 4,
 "nbformat_minor": 5
}
