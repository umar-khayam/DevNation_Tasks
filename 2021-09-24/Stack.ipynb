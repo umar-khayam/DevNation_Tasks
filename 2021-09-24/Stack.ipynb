{
 "cells": [
  {
   "cell_type": "markdown",
   "id": "54ed90a5",
   "metadata": {},
   "source": [
    "Here we will create Node class which help us creating Node"
   ]
  },
  {
   "cell_type": "code",
   "execution_count": 4,
   "id": "f75da14a",
   "metadata": {},
   "outputs": [],
   "source": [
    "class Node:\n",
    "    def __init__(self,data):\n",
    "        self.data=data\n",
    "        self.next=None"
   ]
  },
  {
   "cell_type": "markdown",
   "id": "f6067c2e",
   "metadata": {},
   "source": [
    "In this class we will prerform functionality of linked list"
   ]
  },
  {
   "cell_type": "code",
   "execution_count": 11,
   "id": "c6897228",
   "metadata": {},
   "outputs": [],
   "source": [
    "class Stack:\n",
    "    def __init__(self):\n",
    "        self.top=None\n",
    "        \n",
    "    #Push Function\n",
    "    def push(self,data):\n",
    "        new_node=Node(data)\n",
    "        if self.top is None:\n",
    "            self.top=new_node\n",
    "            return\n",
    "        new_node.next=self.top\n",
    "        self.top=new_node\n",
    "    \n",
    "    def pop(self):\n",
    "        if self.top is None:\n",
    "            print('Stack is empty')\n",
    "            return\n",
    "        self.top=self.top.next\n",
    "    \n",
    "    def peek(self):\n",
    "        if self.top is None:\n",
    "            print('Stack is empty')\n",
    "            return\n",
    "        return self.top.data\n",
    "    \n",
    "    def display(self):\n",
    "        if self.top is None:\n",
    "            print('Stack is empty')\n",
    "            return\n",
    "        \n",
    "        temp_node=self.top\n",
    "        while temp_node is not None:\n",
    "            print(temp_node.data)\n",
    "            temp_node=temp_node.next\n",
    "    \n",
    "    def isempty(self):\n",
    "        if self.top is None:\n",
    "            return True\n",
    "        return False\n",
    "        \n",
    "    "
   ]
  },
  {
   "cell_type": "code",
   "execution_count": 12,
   "id": "316e92be",
   "metadata": {},
   "outputs": [],
   "source": [
    "stack=Stack()\n",
    "def check():\n",
    "    a='([({a*(a+b))})]'\n",
    "    for i in a:\n",
    "        if i=='(' or i=='[' or i=='{':\n",
    "            stack.push('(')\n",
    "        elif i==')' or i==']' or i=='}' :\n",
    "            if stack.isempty():\n",
    "                return False\n",
    "            stack.pop()\n",
    "    if stack.isempty():\n",
    "        return True\n",
    "    return False\n",
    "            "
   ]
  },
  {
   "cell_type": "code",
   "execution_count": 13,
   "id": "d46d8f08",
   "metadata": {},
   "outputs": [
    {
     "data": {
      "text/plain": [
       "True"
      ]
     },
     "execution_count": 13,
     "metadata": {},
     "output_type": "execute_result"
    }
   ],
   "source": [
    "check()"
   ]
  }
 ],
 "metadata": {
  "kernelspec": {
   "display_name": "Python 3",
   "language": "python",
   "name": "python3"
  },
  "language_info": {
   "codemirror_mode": {
    "name": "ipython",
    "version": 3
   },
   "file_extension": ".py",
   "mimetype": "text/x-python",
   "name": "python",
   "nbconvert_exporter": "python",
   "pygments_lexer": "ipython3",
   "version": "3.8.8"
  }
 },
 "nbformat": 4,
 "nbformat_minor": 5
}
