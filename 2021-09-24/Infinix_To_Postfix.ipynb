{
 "cells": [
  {
   "cell_type": "code",
   "execution_count": 1,
   "id": "420efae9",
   "metadata": {},
   "outputs": [],
   "source": [
    "class Node:\n",
    "    def __init__(self,data):\n",
    "        self.data=data\n",
    "        self.next=None"
   ]
  },
  {
   "cell_type": "code",
   "execution_count": 18,
   "id": "c9474d9b",
   "metadata": {},
   "outputs": [],
   "source": [
    "class Stack:\n",
    "    def __init__(self):\n",
    "        self.top=None\n",
    "    \n",
    "    def push(self, data):\n",
    "        new_node=Node(data)\n",
    "        if self.top is None:\n",
    "            self.top=new_node\n",
    "            return\n",
    "        new_node.next=self.top\n",
    "        self.top=new_node\n",
    "        \n",
    "    def pop(self):\n",
    "        if self.top is None:\n",
    "            print('Stack is empty')\n",
    "            return\n",
    "        self.top=self.top.next\n",
    "        return self.top.data\n",
    "        \n",
    "    def display(self):\n",
    "        if self.top is None:\n",
    "            print('Stack is empty')\n",
    "            return\n",
    "        \n",
    "        new_node=self.top\n",
    "        while new_node is not None:\n",
    "            print(new_node.data)\n",
    "            new_node=new_node.next\n",
    "            \n",
    "    def peek(self):\n",
    "        if self.top is None:\n",
    "            print('Stack is empty')\n",
    "            return\n",
    "        \n",
    "        return self.top.data"
   ]
  },
  {
   "cell_type": "code",
   "execution_count": 22,
   "id": "d0c07a02",
   "metadata": {},
   "outputs": [
    {
     "data": {
      "text/plain": [
       "[]"
      ]
     },
     "execution_count": 22,
     "metadata": {},
     "output_type": "execute_result"
    }
   ],
   "source": [
    "s=Stack()\n",
    "a='a+b*c-a'\n",
    "def pre(x):\n",
    "    if x=='+' or x=='-':\n",
    "        return 1\n",
    "    \n",
    "    elif x=='*' or x=='/':\n",
    "        return 2\n",
    "    \n",
    "    return 0\n",
    "\n",
    "def operand(x):\n",
    "    if x=='+' or x=='-' or x=='*' or x=='/':\n",
    "        return 0\n",
    "    else:\n",
    "        return 1\n",
    "b=[]  \n",
    "def post(a):\n",
    "    for i in range(len(a)):\n",
    "        if operand(a[i]):\n",
    "            b.append(a[i])\n",
    "            i+=1\n",
    "        else:\n",
    "            if pre(a[i])>pre(s.peek()):\n",
    "                push(a[i])\n",
    "                i+=1\n",
    "            b.append(s.pop())\n",
    "    while(s.pop() is not None):\n",
    "        b.append(s.pop())\n",
    "        \n",
    "b"
   ]
  },
  {
   "cell_type": "code",
   "execution_count": null,
   "id": "567a4156",
   "metadata": {},
   "outputs": [],
   "source": []
  },
  {
   "cell_type": "code",
   "execution_count": null,
   "id": "129abca3",
   "metadata": {},
   "outputs": [],
   "source": []
  }
 ],
 "metadata": {
  "kernelspec": {
   "display_name": "Python 3",
   "language": "python",
   "name": "python3"
  },
  "language_info": {
   "codemirror_mode": {
    "name": "ipython",
    "version": 3
   },
   "file_extension": ".py",
   "mimetype": "text/x-python",
   "name": "python",
   "nbconvert_exporter": "python",
   "pygments_lexer": "ipython3",
   "version": "3.8.8"
  }
 },
 "nbformat": 4,
 "nbformat_minor": 5
}
