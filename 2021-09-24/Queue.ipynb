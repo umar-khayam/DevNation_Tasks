{
 "cells": [
  {
   "cell_type": "code",
   "execution_count": 22,
   "id": "e7d4fbec",
   "metadata": {},
   "outputs": [],
   "source": [
    "class Node:\n",
    "    def __init__(self, data):\n",
    "        self.data=data\n",
    "        self.next=None"
   ]
  },
  {
   "cell_type": "code",
   "execution_count": 23,
   "id": "d5939acf",
   "metadata": {},
   "outputs": [],
   "source": [
    "class Queue:\n",
    "    def __init__(self):\n",
    "        self.front=None\n",
    "    \n",
    "    def enqueue(self, data):\n",
    "        new_node=Node(data)\n",
    "        if self.front is None:\n",
    "            self.front=new_node\n",
    "            return\n",
    "        temp_node=self.front\n",
    "        while temp_node.next is not None:\n",
    "            temp_node=temp_node.next\n",
    "        temp_node.next=new_node\n",
    "        \n",
    "    def dequeue(self):\n",
    "        if self.front is None:\n",
    "            print('Queue is empty')\n",
    "        \n",
    "        self.front=self.front.next\n",
    "    \n",
    "    def traverse(self):\n",
    "        temp_node=self.front\n",
    "        while temp_node is not None:\n",
    "            print(temp_node.data)\n",
    "            temp_node=temp_node.next\n",
    "        \n",
    "    def return_front(self):\n",
    "        if self.front is None:\n",
    "            print('Queue is empty')\n",
    "        \n",
    "        return self.front.data"
   ]
  },
  {
   "cell_type": "code",
   "execution_count": null,
   "id": "3bc0d57c",
   "metadata": {},
   "outputs": [],
   "source": []
  }
 ],
 "metadata": {
  "kernelspec": {
   "display_name": "Python 3",
   "language": "python",
   "name": "python3"
  },
  "language_info": {
   "codemirror_mode": {
    "name": "ipython",
    "version": 3
   },
   "file_extension": ".py",
   "mimetype": "text/x-python",
   "name": "python",
   "nbconvert_exporter": "python",
   "pygments_lexer": "ipython3",
   "version": "3.8.8"
  }
 },
 "nbformat": 4,
 "nbformat_minor": 5
}
