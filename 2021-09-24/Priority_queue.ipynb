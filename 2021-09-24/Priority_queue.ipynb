{
 "cells": [
  {
   "cell_type": "code",
   "execution_count": 38,
   "id": "cb35c0f3",
   "metadata": {},
   "outputs": [],
   "source": [
    "class Preiority_Queue:\n",
    "    def __init__(self):\n",
    "        self.queue=[]\n",
    "    \n",
    "    def __str__(self):\n",
    "        return ' '.join([str(i) for i in self.queue])\n",
    "    \n",
    "    def insert(self, data):\n",
    "        self.queue.append(data)\n",
    "    \n",
    "    def delete(self):\n",
    "        if len(self.queue)==0 :\n",
    "            print(\"Null\")\n",
    "            return\n",
    "        try:\n",
    "            ma=max(self.queue)\n",
    "            self.queue.remove(ma)\n",
    "        except IndexError:\n",
    "            print()\n",
    "        \n",
    "            "
   ]
  },
  {
   "cell_type": "code",
   "execution_count": 39,
   "id": "f1de115f",
   "metadata": {},
   "outputs": [
    {
     "name": "stdout",
     "output_type": "stream",
     "text": [
      "5 3 6 7 1 2\n",
      "Null\n",
      "\n"
     ]
    }
   ],
   "source": [
    "p=Preiority_Queue()\n",
    "p.insert(5)\n",
    "p.insert(3)\n",
    "p.insert(6)\n",
    "p.insert(7)\n",
    "p.insert(1)\n",
    "p.insert(2)\n",
    "print(p)\n",
    "p.delete()\n",
    "p.delete()\n",
    "p.delete()\n",
    "p.delete()\n",
    "p.delete()\n",
    "p.delete()\n",
    "p.delete()\n",
    "print(p)"
   ]
  },
  {
   "cell_type": "code",
   "execution_count": null,
   "id": "d7fbf94d",
   "metadata": {},
   "outputs": [],
   "source": []
  },
  {
   "cell_type": "code",
   "execution_count": null,
   "id": "32aa6ee2",
   "metadata": {},
   "outputs": [],
   "source": []
  }
 ],
 "metadata": {
  "kernelspec": {
   "display_name": "Python 3",
   "language": "python",
   "name": "python3"
  },
  "language_info": {
   "codemirror_mode": {
    "name": "ipython",
    "version": 3
   },
   "file_extension": ".py",
   "mimetype": "text/x-python",
   "name": "python",
   "nbconvert_exporter": "python",
   "pygments_lexer": "ipython3",
   "version": "3.8.8"
  }
 },
 "nbformat": 4,
 "nbformat_minor": 5
}
