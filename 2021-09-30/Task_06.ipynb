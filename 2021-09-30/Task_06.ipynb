{
 "cells": [
  {
   "cell_type": "code",
   "execution_count": 1,
   "id": "36f10d00",
   "metadata": {},
   "outputs": [],
   "source": [
    "class Node:\n",
    "    def __init__(self,data):\n",
    "        self.data=data\n",
    "        self.next=None"
   ]
  },
  {
   "cell_type": "code",
   "execution_count": 248,
   "id": "90dbe2b0",
   "metadata": {},
   "outputs": [],
   "source": [
    "class Linked_list:\n",
    "    def __init__(self):\n",
    "        self.head=None\n",
    "    \n",
    "    def insert_at_head(self,data):\n",
    "        data_node=Node(data)\n",
    "        data_node.next=self.head\n",
    "        self.head=data_node\n",
    "        \n",
    "    def traverse(self):\n",
    "        traverse_node=self.head\n",
    "        \n",
    "        while(traverse_node):\n",
    "            print(traverse_node.data,end=' ')\n",
    "            traverse_node=traverse_node.next \n",
    "    \n",
    "    def insert_at_end(self,data):\n",
    "        data_node=Node(data)\n",
    "        temp_node=self.head\n",
    "        \n",
    "        while(temp_node.next):\n",
    "            temp_node=temp_node.next\n",
    "        temp_node.next=data_node\n",
    "        \n",
    "    def insert_at_index(self, index, data):\n",
    "        if self.count_node()<index:\n",
    "            print('Index is exceeding')\n",
    "            return \n",
    "        \n",
    "        data_node=Node(data)\n",
    "        temp_node=self.head\n",
    "        count=0\n",
    "        \n",
    "        while temp_node:\n",
    "            if count==index:\n",
    "                break\n",
    "            count+=1\n",
    "            temp_node=temp_node.next\n",
    "            \n",
    "        data_node.next=temp_node.next\n",
    "        temp_node.next=data_node\n",
    "            \n",
    "    def count_node(self):\n",
    "        temp_node=self.head\n",
    "        count=0\n",
    "        \n",
    "        while temp_node:\n",
    "            temp_node=temp_node.next\n",
    "            count+=1\n",
    "            \n",
    "        return count\n",
    "    \n",
    "    def odd_number_linked_list(self):\n",
    "        traverse_node=self.head\n",
    "        while(traverse_node):\n",
    "            if traverse_node.data%2==0:\n",
    "                print(traverse_node.data)\n",
    "            traverse_node=traverse_node.next"
   ]
  },
  {
   "cell_type": "code",
   "execution_count": 253,
   "id": "7944f7f7",
   "metadata": {},
   "outputs": [
    {
     "name": "stdout",
     "output_type": "stream",
     "text": [
      "1 2 4 5 6 "
     ]
    }
   ],
   "source": [
    "lis=Linked_list()\n",
    "lis.insert_at_head(6)\n",
    "lis.insert_at_head(5)\n",
    "lis.insert_at_head(4)\n",
    "lis.insert_at_head(2)\n",
    "lis.insert_at_head(1)\n",
    "lis.traverse()\n",
    "odd_number_linked_list"
   ]
  },
  {
   "cell_type": "code",
   "execution_count": null,
   "id": "87aa5f28",
   "metadata": {},
   "outputs": [],
   "source": []
  }
 ],
 "metadata": {
  "kernelspec": {
   "display_name": "Python 3",
   "language": "python",
   "name": "python3"
  },
  "language_info": {
   "codemirror_mode": {
    "name": "ipython",
    "version": 3
   },
   "file_extension": ".py",
   "mimetype": "text/x-python",
   "name": "python",
   "nbconvert_exporter": "python",
   "pygments_lexer": "ipython3",
   "version": "3.8.8"
  }
 },
 "nbformat": 4,
 "nbformat_minor": 5
}
