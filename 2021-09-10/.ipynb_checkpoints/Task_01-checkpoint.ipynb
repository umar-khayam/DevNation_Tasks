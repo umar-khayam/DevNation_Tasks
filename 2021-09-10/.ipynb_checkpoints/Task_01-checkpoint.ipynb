{
 "cells": [
  {
   "cell_type": "markdown",
   "id": "c31ef43a",
   "metadata": {},
   "source": [
    "# Question 01:"
   ]
  },
  {
   "cell_type": "code",
   "execution_count": 1,
   "id": "0d92789a",
   "metadata": {},
   "outputs": [
    {
     "name": "stdout",
     "output_type": "stream",
     "text": [
      "Enter days: 24\n",
      "-14\n"
     ]
    }
   ],
   "source": [
    "from datetime import date\n",
    "def get_date(number_of_days):\n",
    "    d = date.today()\n",
    "    if(number_of_days%2!=0):\n",
    "        return d.day+number_of_days\n",
    "    else:\n",
    "        return d.day-number_of_days\n",
    "n=int(input(\"Enter days: \"))\n",
    "print(get_date(n))"
   ]
  },
  {
   "cell_type": "markdown",
   "id": "13539129",
   "metadata": {},
   "source": [
    "# Question 02:"
   ]
  },
  {
   "cell_type": "code",
   "execution_count": 2,
   "id": "85b07ca2",
   "metadata": {},
   "outputs": [
    {
     "name": "stdout",
     "output_type": "stream",
     "text": [
      "[['d', 'e', 'v', 'n', 'a', 't', 'i', 'o', 'n'], ['d', 'a', 't', 'a', ' ', 's', 'c', 'i', 'e', 'n', 'c', 'e'], ['r', 'e', 'q', 'u', 'i', 'r', 'e', 's'], ['d', 'e', 'd', 'i', 'c', 'a', 't', 'i', 'o', 'n']]\n"
     ]
    }
   ],
   "source": [
    "def ma(l):\n",
    "    k=[]\n",
    "    for i in l:\n",
    "        k.append(i)\n",
    "    return k          \n",
    "def stringofy(lis):\n",
    "    k=list(map(ma,lis))\n",
    "    return k\n",
    "lis= [\"devnation\", \"data science\", \"requires\", \"dedication\"]\n",
    "print(stringofy(lis))"
   ]
  },
  {
   "cell_type": "markdown",
   "id": "1894c3eb",
   "metadata": {},
   "source": [
    "# Question 03:"
   ]
  },
  {
   "cell_type": "code",
   "execution_count": 3,
   "id": "a3fedaaa",
   "metadata": {},
   "outputs": [
    {
     "name": "stdout",
     "output_type": "stream",
     "text": [
      "(('B', 'b'), ('F', 'f'), ('A', 'a'))\n"
     ]
    }
   ],
   "source": [
    "def upper_lower(l):\n",
    "    return l.upper(),l.lower()\n",
    "def string_case(lis):\n",
    "    a=tuple(set(map(upper_lower,lis)))\n",
    "    return a\n",
    "Sample = ['f', 'b', 'a', 'a']\n",
    "print(string_case(Sample))"
   ]
  },
  {
   "cell_type": "markdown",
   "id": "05d0bb17",
   "metadata": {},
   "source": [
    "# Question 04:"
   ]
  },
  {
   "cell_type": "code",
   "execution_count": 4,
   "id": "a4929add",
   "metadata": {},
   "outputs": [
    {
     "name": "stdout",
     "output_type": "stream",
     "text": [
      "['a@', 'b@', 'c@']\n"
     ]
    }
   ],
   "source": [
    "def str_join(lis,symbol):\n",
    "    x = list(map(lambda i: i + symbol,lis))\n",
    "    return x\n",
    "p1=['a','b','c']\n",
    "p2='@'\n",
    "print(str_join(p1,p2))"
   ]
  },
  {
   "cell_type": "markdown",
   "id": "063e9551",
   "metadata": {},
   "source": [
    "# Question 05:"
   ]
  },
  {
   "cell_type": "code",
   "execution_count": 6,
   "id": "b2f73082",
   "metadata": {},
   "outputs": [
    {
     "name": "stdout",
     "output_type": "stream",
     "text": [
      "[(8, 12.571428571428571), (6, 16.21518987341772), (5, 20.5), (4, 21.012345679012345)]\n"
     ]
    }
   ],
   "source": [
    "import pandas as pnd\n",
    "import numpy as np\n",
    "data=pnd.read_csv('mpg.csv')\n",
    "group=data.groupby(['cyl'])\n",
    "l=[]\n",
    "b=[]\n",
    "k=[]\n",
    "v=[]\n",
    "for i,j in group:\n",
    "    l.append(j)\n",
    "    k.append(i)\n",
    "for i in range(len(group)):\n",
    "    d1=pnd.DataFrame(data=l[i])\n",
    "    n1=np.sum(d1.iloc[:,8])/len(d1.iloc[:,8])\n",
    "    b.append(k[i])\n",
    "    b.append(n1)\n",
    "    v.append(tuple(b))\n",
    "    b.clear()\n",
    "    d1=\"\"\n",
    "    n=\"\"\n",
    "v.sort(key=lambda x:x[1])\n",
    "print(v)"
   ]
  },
  {
   "cell_type": "markdown",
   "id": "342d3a9d",
   "metadata": {},
   "source": [
    "# Question 06:"
   ]
  },
  {
   "cell_type": "code",
   "execution_count": 7,
   "id": "fc1e47db",
   "metadata": {},
   "outputs": [
    {
     "name": "stdout",
     "output_type": "stream",
     "text": [
      "Find Number: 4\n",
      "[2, 7]\n"
     ]
    }
   ],
   "source": [
    "def find_indexes(lis,n):\n",
    "    l=[]\n",
    "    if n in lis:\n",
    "        for i in range(len(lis)):\n",
    "            if lis[i]==n:\n",
    "                l.append(i.__index__())\n",
    "        print(l)\n",
    "    else:\n",
    "        print(\"Not found\")\n",
    "lis=[1,3,4,2,3,1,3,4,5]\n",
    "n=int(input(\"Find Number: \"))\n",
    "find_indexes(lis,n)"
   ]
  },
  {
   "cell_type": "markdown",
   "id": "f01d5b91",
   "metadata": {},
   "source": [
    "# Question 07:"
   ]
  },
  {
   "cell_type": "markdown",
   "id": "730cb243",
   "metadata": {},
   "source": [
    "{\"@context\":\"http:\\u002F\\u002Fschema.org\",\"@type\":\"LodgingBusiness\",\"name\":\"Seabreeze Holiday Park\",\"url\":\"\\u002FHotel_Review-g4475485-d2207450-ReviewsSeabreeze_Holiday_ParkWhenuakite_Coromandel_Peninsula_Waikato_Region_North_Island.html\",\"image\":\"https:\\\n",
    "u002F\\u002Fmedia-cdn.tripadvisor.com\\u002Fmedia\\u002Fphotos\\u002F09\\u002F66\\u002Fa0\\u002F92\\u002Fseabreeze-holiday-park.jpg\",\"priceRange\":\"$(Based on Average Nightly Rates for a Standard Room from ourPartners)\",\"aggregateRating\":{\"@type\":\"AggregateRating\",\"ratingValue\":\"3.5\",\"reviewCount\":\"152\"},\"address\":{\"@type\":\"PostalAddress\",\"streetAddress\":\"1043 Tairua Whitianga RoadSh25\",\"addressLocality\":\"Whenuakite\",\"addressRegion\":\"NorthIsland\",\"postalCode\":\"3591\",\"addressCountry\":{\"@type\":\"Country\",\"name\":\"NewZealand\"}}}\n"
   ]
  },
  {
   "cell_type": "code",
   "execution_count": 21,
   "id": "9b0e1f77",
   "metadata": {},
   "outputs": [
    {
     "name": "stdout",
     "output_type": "stream",
     "text": [
      "Seabreeze Holiday Park\n",
      "{'@type': 'PostalAddress', 'streetAddress': '1043 Tairua Whitianga RoadSh25', 'addressLocality': 'Whenuakite', 'addressRegion': 'NorthIsland', 'postalCode': '3591', 'addressCountry': {'@type': 'Country', 'name': 'NewZealand'}}\n",
      "{'@context': 'http://schema.org', '@type': 'LodgingBusiness', 'name': 'Seabreeze Holiday Park', 'url': '/Hotel_Review-g4475485-d2207450-ReviewsSeabreeze_Holiday_ParkWhenuakite_Coromandel_Peninsula_Waikato_Region_North_Island.html', 'image': 'https:u002F/media-cdn.tripadvisor.com/media/photos/09/66/a0/92/seabreeze-holiday-park.jpg', 'priceRange': '$(Based on Average Nightly Rates for a Standard Room from ourPartners)', 'aggregateRating': {'@type': 'AggregateRating', 'ratingValue': '3.5', 'reviewCount': '152'}, 'address': {'@type': 'PostalAddress', 'streetAddress': '1043 Tairua Whitianga RoadSh25', 'addressLocality': 'Whenuakite', 'addressRegion': 'NorthIsland', 'postalCode': '3591', 'addressCountry': {'@type': 'Country', 'name': 'NewZealand'}}}\n"
     ]
    }
   ],
   "source": [
    "a={\"@context\":\"http:\\u002F\\u002Fschema.org\",\"@type\":\"LodgingBusiness\",\"name\":\"Seabreeze Holiday Park\",\"url\":\"\\u002FHotel_Review-g4475485-d2207450-ReviewsSeabreeze_Holiday_ParkWhenuakite_Coromandel_Peninsula_Waikato_Region_North_Island.html\",\"image\":\"https:u002F\\u002Fmedia-cdn.tripadvisor.com\\u002Fmedia\\u002Fphotos\\u002F09\\u002F66\\u002Fa0\\u002F92\\u002Fseabreeze-holiday-park.jpg\",\"priceRange\":\"$(Based on Average Nightly Rates for a Standard Room from ourPartners)\",\"aggregateRating\":{\"@type\":\"AggregateRating\",\"ratingValue\":\"3.5\",\"reviewCount\":\"152\"},\"address\":{\"@type\":\"PostalAddress\",\"streetAddress\":\"1043 Tairua Whitianga RoadSh25\",\"addressLocality\":\"Whenuakite\",\"addressRegion\":\"NorthIsland\",\"postalCode\":\"3591\",\"addressCountry\":{\"@type\":\"Country\",\"name\":\"NewZealand\"}}}\n"
   ]
  },
  {
   "cell_type": "code",
   "execution_count": null,
   "id": "d19805e3",
   "metadata": {},
   "outputs": [],
   "source": [
    "a=['a','b','c']\n",
    "b=['a','d']\n",
    "for i in a:\n",
    "    for j in b:\n",
    "        if i!=j:\n",
    "            a.append(j)\n",
    "print(b)"
   ]
  },
  {
   "cell_type": "code",
   "execution_count": null,
   "id": "23941a8a",
   "metadata": {},
   "outputs": [],
   "source": []
  }
 ],
 "metadata": {
  "kernelspec": {
   "display_name": "Python 3",
   "language": "python",
   "name": "python3"
  },
  "language_info": {
   "codemirror_mode": {
    "name": "ipython",
    "version": 3
   },
   "file_extension": ".py",
   "mimetype": "text/x-python",
   "name": "python",
   "nbconvert_exporter": "python",
   "pygments_lexer": "ipython3",
   "version": "3.8.8"
  }
 },
 "nbformat": 4,
 "nbformat_minor": 5
}
