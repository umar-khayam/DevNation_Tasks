{
 "cells": [
  {
   "cell_type": "markdown",
   "id": "314158bd",
   "metadata": {},
   "source": [
    "# Development 2"
   ]
  },
  {
   "cell_type": "markdown",
   "id": "27e44765",
   "metadata": {},
   "source": [
    "## Question 1"
   ]
  },
  {
   "cell_type": "code",
   "execution_count": 135,
   "id": "071b2fa5",
   "metadata": {},
   "outputs": [
    {
     "name": "stdout",
     "output_type": "stream",
     "text": [
      "[{'courses': 'Datascience', 'marks': 30}, {'course': 'Python', 'marks': 40}]\n"
     ]
    }
   ],
   "source": [
    "class Student:\n",
    "    def __init__(self,name,batch_no,address,courses=[],courses_score=[]):\n",
    "        self.name=name\n",
    "        self.batch_no=batch_no\n",
    "        self.address=address\n",
    "        self.courses=courses\n",
    "        self.courses_score=list(map(self.f,courses,courses_score))\n",
    "    \n",
    "    def f(self,i,j):\n",
    "        return {'courses':i,'marks':j}\n",
    "        \n",
    "    #Setter\n",
    "    def set_name(self,name):\n",
    "        self.name=name\n",
    "    def set_batch_no(self,batch_no):\n",
    "        self.batch_no=batch_no\n",
    "    def set_address(self,address):\n",
    "        self.address=address\n",
    "    def set_courses(self,courses):\n",
    "        self.courses=courses\n",
    "    def set_courses_score(self,subject,marks):\n",
    "        if subject in self.courses:\n",
    "            for i in range(len(self.courses_score)):\n",
    "                a=self.courses_score[i]\n",
    "                for k,j in a.items():\n",
    "                    if j==subject:\n",
    "                        a['marks']=marks\n",
    "        else:\n",
    "            print('Courses not find')\n",
    "            \n",
    "            \n",
    "    def set_courses_score_new(self,subject,marks):\n",
    "        if subject in self.courses:\n",
    "            for i in self.courses_score:\n",
    "                b=i['courses']\n",
    "                if b==subject:\n",
    "                    self.courses_score.remove(i)\n",
    "            temp={}\n",
    "            temp['course']=subject\n",
    "            temp['marks']=marks\n",
    "            self.courses_score.append(temp)\n",
    "            \n",
    "    def remove_duplicate(self):\n",
    "        for i in len(courses_score):\n",
    "            a=i\n",
    "            print(a)\n",
    "        \n",
    "    #Getter     \n",
    "    def get_name(self):\n",
    "        return self.name\n",
    "    def get_batch_no(self):\n",
    "        return self.batch_no\n",
    "    def get_address(self):\n",
    "        return self.address\n",
    "    def get_courses(self):\n",
    "        return self.courses\n",
    "    def get_courses_score(self):\n",
    "        return self.courses_score\n",
    "a=Student('Umar',2,'Attock',['Datascience','Python'],[30,30])\n",
    "a.set_courses_score_new('Python',40)\n",
    "print(a.get_courses_score())"
   ]
  },
  {
   "cell_type": "code",
   "execution_count": null,
   "id": "e82751ad",
   "metadata": {},
   "outputs": [],
   "source": []
  }
 ],
 "metadata": {
  "kernelspec": {
   "display_name": "Python 3",
   "language": "python",
   "name": "python3"
  },
  "language_info": {
   "codemirror_mode": {
    "name": "ipython",
    "version": 3
   },
   "file_extension": ".py",
   "mimetype": "text/x-python",
   "name": "python",
   "nbconvert_exporter": "python",
   "pygments_lexer": "ipython3",
   "version": "3.8.8"
  }
 },
 "nbformat": 4,
 "nbformat_minor": 5
}
