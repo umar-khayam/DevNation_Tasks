{
 "cells": [
  {
   "cell_type": "markdown",
   "id": "b22c274f",
   "metadata": {},
   "source": [
    "First we will creat a class node which will create node for linked list"
   ]
  },
  {
   "cell_type": "code",
   "execution_count": 8,
   "id": "8f37c828",
   "metadata": {},
   "outputs": [],
   "source": [
    "class Node:\n",
    "    def __init__(self,data):\n",
    "        self.data=data\n",
    "        self.next=None\n",
    "        self.prev=None"
   ]
  },
  {
   "cell_type": "markdown",
   "id": "0d77dec6",
   "metadata": {},
   "source": [
    "Here we have create linked list and we are going to perform functionality of doubly linked list"
   ]
  },
  {
   "cell_type": "code",
   "execution_count": 21,
   "id": "204da342",
   "metadata": {},
   "outputs": [],
   "source": [
    "class Linked_list:\n",
    "    def __init__(self):\n",
    "        self.head=None\n",
    "    \n",
    "    #In this function we will traverse linked list\n",
    "    def traverse(self):\n",
    "        if self.head is None:\n",
    "            print('Linked list is empty')\n",
    "            return \n",
    "        temp_node=self.head\n",
    "        while temp_node is not None:\n",
    "            print(temp_node.data)\n",
    "            temp_node=temp_node.next\n",
    "    \n",
    "    #Insert function\n",
    "    def insert_at_head(self,data):\n",
    "        if self.head is None:\n",
    "            new_node = Node(data)\n",
    "            self.head = new_node\n",
    "            return\n",
    "        \n",
    "        new_node = Node(data)\n",
    "        new_node.next = self.head\n",
    "        self.head.prev = new_node\n",
    "        self.head = new_node\n",
    "    \n",
    "    #Insert at end\n",
    "    def insert_at_end(self, data):\n",
    "        if self.head is None:\n",
    "            new_node = Node(data)\n",
    "            self.head = new_node\n",
    "            print('Linked list were empty so inserted at head')\n",
    "            return\n",
    "        temp_node = self.head\n",
    "        while temp_node.next is not None:\n",
    "            temp_node = temp_node.next\n",
    "        new_node = Node(data)\n",
    "        temp_node.next = new_node\n",
    "        new_node.prev = temp_node\n",
    "        \n",
    "    #Insert after value\n",
    "    def insert_after_value(self,data,value):\n",
    "        if self.head is None:\n",
    "            print(\"List is empty\")\n",
    "            return\n",
    "        else:\n",
    "            temp_node = self.head\n",
    "            while temp_node is not None:\n",
    "                if temp_node.data == value:\n",
    "                    break\n",
    "                temp_node = temp_node.next\n",
    "            if temp_node is None:\n",
    "                print(\"item not in the list\")\n",
    "            else:\n",
    "                new_node = Node(data)\n",
    "                new_node.prev= temp_node\n",
    "                new_node.next = temp_node.next\n",
    "                if temp_node.next is not None:\n",
    "                    temp_node.next.prev = new_node\n",
    "                temp_node.next = new_node\n",
    "                \n",
    "    #Delete after value\n",
    "    def delete_head(self):\n",
    "        if self.head is None:\n",
    "            print('List is empty')\n",
    "            return \n",
    "        \n",
    "        if self.head.next is None:\n",
    "            self.head=None\n",
    "            return\n",
    "        \n",
    "        self.head=self.head.next\n",
    "        self.head.prev=None\n",
    "        \n",
    "    #Delete end node\n",
    "    def delete_end(self):\n",
    "        if self.head is None:\n",
    "            print('List is empty')\n",
    "            return \n",
    "        \n",
    "        if self.head.next is None:\n",
    "            self.head=None\n",
    "            return\n",
    "        \n",
    "        new_node=self.head\n",
    "        while new_node.next is not None:\n",
    "            new_node=new_node.next\n",
    "        new_node.prev.next=None\n",
    "        \n",
    "    #Delete node by value\n",
    "    def delete_by_value(self,value):\n",
    "        if self.head is None:\n",
    "            print('List is empty')\n",
    "            return \n",
    "        \n",
    "        if self.head.data==value:\n",
    "            self.head = self.head.next\n",
    "            self.head.prev = None\n",
    "            return\n",
    "        \n",
    "        new_node=self.head\n",
    "        while new_node.next is not None:\n",
    "            if new_node.data==value:\n",
    "                break\n",
    "            new_node=new_node.next\n",
    "        if new_node is None:\n",
    "            print(\"Value not found\")\n",
    "        new_node.prev.next=new_node.next\n",
    "        new_node.next.prev = new_node.prev\n",
    "        "
   ]
  },
  {
   "cell_type": "code",
   "execution_count": 22,
   "id": "8f35beae",
   "metadata": {},
   "outputs": [
    {
     "name": "stdout",
     "output_type": "stream",
     "text": [
      "7\n",
      "6\n",
      "5\n"
     ]
    }
   ],
   "source": [
    "l=Linked_list()\n",
    "l.insert_at_head(5)\n",
    "l.insert_at_head(6)\n",
    "l.insert_at_head(7)\n",
    "l.insert_after_value(8,6)\n",
    "l.delete_by_value(8)\n",
    "l.traverse()"
   ]
  },
  {
   "cell_type": "code",
   "execution_count": null,
   "id": "ba71f1fe",
   "metadata": {},
   "outputs": [],
   "source": []
  }
 ],
 "metadata": {
  "kernelspec": {
   "display_name": "Python 3",
   "language": "python",
   "name": "python3"
  },
  "language_info": {
   "codemirror_mode": {
    "name": "ipython",
    "version": 3
   },
   "file_extension": ".py",
   "mimetype": "text/x-python",
   "name": "python",
   "nbconvert_exporter": "python",
   "pygments_lexer": "ipython3",
   "version": "3.8.8"
  }
 },
 "nbformat": 4,
 "nbformat_minor": 5
}
