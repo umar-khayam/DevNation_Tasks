{
 "cells": [
  {
   "cell_type": "code",
   "execution_count": 5,
   "id": "13c04cfe",
   "metadata": {},
   "outputs": [],
   "source": [
    "class stack:\n",
    "    def __init__(self):\n",
    "        self.items=[]\n",
    "        \n",
    "    def push(self,item):\n",
    "        self.items.insert(0,item)\n",
    "    \n",
    "    def pop(self):\n",
    "        if self.items is None:\n",
    "            print('Stack is empty')\n",
    "            return\n",
    "        self.items.pop(0)\n",
    "        \n",
    "    def peek(self):\n",
    "        if self.items is None:\n",
    "            print('Stack is empty')\n",
    "            return\n",
    "        return self.items[0]\n",
    "    \n",
    "    def size(self):\n",
    "        return len(self.items)\n",
    "    \n",
    "    def display(self):\n",
    "        for i in self.items:\n",
    "            print(i,end=' ')\n",
    "        print()\n",
    "            \n",
    "    def push_without_using_insert(self,item):\n",
    "        a=[item]+self.items[:]\n",
    "        self.items=a\n",
    "        \n",
    "            "
   ]
  },
  {
   "cell_type": "code",
   "execution_count": 6,
   "id": "c56006a4",
   "metadata": {},
   "outputs": [
    {
     "name": "stdout",
     "output_type": "stream",
     "text": [
      "2 8 7 6 5 \n",
      "8 7 6 5 \n"
     ]
    }
   ],
   "source": [
    "s=stack()\n",
    "s.push(5)\n",
    "s.push(6)\n",
    "s.push(7)\n",
    "s.push(8)\n",
    "s.push_without_using_insert(2)\n",
    "s.display()\n",
    "s.pop()\n",
    "s.display()\n"
   ]
  },
  {
   "cell_type": "code",
   "execution_count": null,
   "id": "c0f142ac",
   "metadata": {},
   "outputs": [],
   "source": []
  },
  {
   "cell_type": "code",
   "execution_count": null,
   "id": "68c1cfa0",
   "metadata": {},
   "outputs": [],
   "source": []
  }
 ],
 "metadata": {
  "kernelspec": {
   "display_name": "Python 3",
   "language": "python",
   "name": "python3"
  },
  "language_info": {
   "codemirror_mode": {
    "name": "ipython",
    "version": 3
   },
   "file_extension": ".py",
   "mimetype": "text/x-python",
   "name": "python",
   "nbconvert_exporter": "python",
   "pygments_lexer": "ipython3",
   "version": "3.8.8"
  }
 },
 "nbformat": 4,
 "nbformat_minor": 5
}
