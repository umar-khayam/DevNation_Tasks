{
 "cells": [
  {
   "cell_type": "code",
   "execution_count": 47,
   "id": "d7076725",
   "metadata": {},
   "outputs": [],
   "source": [
    "class MyType:\n",
    "    \n",
    "    def __new__(cls,a,b):\n",
    "        if a>500:\n",
    "            pass\n",
    "        else:\n",
    "            inst=object.__new__(cls)\n",
    "            return inst\n",
    "        \n",
    "    def __init__(self,a,b):\n",
    "        self.a=a\n",
    "        self.b=b\n",
    "    \n",
    "    def __add__(self,obj2):\n",
    "        return (self.a+obj2.a , self.b+obj2.b)\n",
    "    \n",
    "    def __sub__(self,obj2):\n",
    "        return (self.a-obj2.a , self.b-obj2.b)\n",
    "    \n",
    "    def __gt__(self,obj2):\n",
    "        if self.a>self.b and obj2.a>obj2.b:\n",
    "            return True\n",
    "        return False\n",
    "    \n",
    "    def __lt__(self,obj2):\n",
    "        if self.a<self.b and obj2.a<obj2.b:\n",
    "            return True\n",
    "        return False"
   ]
  },
  {
   "cell_type": "code",
   "execution_count": 51,
   "id": "25dafbea",
   "metadata": {},
   "outputs": [
    {
     "data": {
      "text/plain": [
       "False"
      ]
     },
     "execution_count": 51,
     "metadata": {},
     "output_type": "execute_result"
    }
   ],
   "source": [
    "obj1=MyType(5,2)\n",
    "obj2=MyType(5,3)\n",
    "obj1<obj2\n"
   ]
  },
  {
   "cell_type": "code",
   "execution_count": null,
   "id": "b0e237ba",
   "metadata": {},
   "outputs": [],
   "source": []
  }
 ],
 "metadata": {
  "kernelspec": {
   "display_name": "Python 3",
   "language": "python",
   "name": "python3"
  },
  "language_info": {
   "codemirror_mode": {
    "name": "ipython",
    "version": 3
   },
   "file_extension": ".py",
   "mimetype": "text/x-python",
   "name": "python",
   "nbconvert_exporter": "python",
   "pygments_lexer": "ipython3",
   "version": "3.8.8"
  }
 },
 "nbformat": 4,
 "nbformat_minor": 5
}
