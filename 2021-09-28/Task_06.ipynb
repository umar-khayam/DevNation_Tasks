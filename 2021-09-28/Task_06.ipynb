{
 "cells": [
  {
   "cell_type": "markdown",
   "id": "98aeed77",
   "metadata": {},
   "source": [
    "1. Constructor\n",
    "a. Initialize an Object with following parameters\n",
    "i. a\n",
    "ii. b\n",
    "\n",
    "2. new:\n",
    "a. Create an object of MyType. Make sure if the value of `a` >500 then don’t\n",
    "create an object\n",
    "\n",
    "3. add:\n",
    "a. Let suppose you create two myType objects\n",
    "i. T1 = myType(1,2)\n",
    "ii. T2 = myType(2,3)\n",
    "iii. When you run this add function it should add the corresponding\n",
    "elements of each object i.e t1 first element 1 should be added to t2\n",
    "first element 2 and so on\n",
    "iv. Final Result this function should return (3,5)\n",
    "v. Note Final Result is just a sample output\n",
    "\n",
    "4. sub\n",
    "a. Same process as add function just replace addition with subtraction\n",
    "b. Final result should be (-1,-1)\n",
    "c. Note Final Result is just a sample output\n",
    "5. gt\n",
    "a. This is the greater function “>”\n",
    "b. Should Return True or False\n",
    "c. If Both elements of first elements are greater then second element, then\n",
    "return True else False\n",
    "\n",
    "6. lt\n",
    "a. This is the less function “<”\n",
    "b. Should Return True or False\n",
    "c. If Both elements of first elements are less then second element, then return\n",
    "True else False"
   ]
  },
  {
   "cell_type": "code",
   "execution_count": null,
   "id": "b847bde3",
   "metadata": {},
   "outputs": [],
   "source": [
    "5. gt\n",
    "a. This is the greater function “>”\n",
    "b. Should Return True or False\n",
    "c. If Both elements of first elements are greater then second element, then\n",
    "return True else False"
   ]
  },
  {
   "cell_type": "code",
   "execution_count": 47,
   "id": "d7076725",
   "metadata": {},
   "outputs": [],
   "source": [
    "class MyType:\n",
    "    \n",
    "    def __new__(cls,a,b):\n",
    "        if a>500:\n",
    "            pass\n",
    "        else:\n",
    "            inst=object.__new__(cls)\n",
    "            return inst\n",
    "        \n",
    "    def __init__(self,a,b):\n",
    "        self.a=a\n",
    "        self.b=b\n",
    "    \n",
    "    def __add__(self,obj2):\n",
    "        return (self.a+obj2.a , self.b+obj2.b)\n",
    "    \n",
    "    def __sub__(self,obj2):\n",
    "        return (self.a-obj2.a , self.b-obj2.b)\n",
    "    \n",
    "    def __gt__(self,obj2):\n",
    "        if self.a>self.b and obj2.a>obj2.b:\n",
    "            return True\n",
    "        return False\n",
    "    \n",
    "    def __lt__(self,obj2):\n",
    "        if self.a<self.b and obj2.a<obj2.b:\n",
    "            return True\n",
    "        return False"
   ]
  },
  {
   "cell_type": "code",
   "execution_count": 51,
   "id": "25dafbea",
   "metadata": {},
   "outputs": [
    {
     "data": {
      "text/plain": [
       "False"
      ]
     },
     "execution_count": 51,
     "metadata": {},
     "output_type": "execute_result"
    }
   ],
   "source": [
    "obj1=MyType(5,2)\n",
    "obj2=MyType(5,3)\n",
    "obj1<obj2\n"
   ]
  },
  {
   "cell_type": "code",
   "execution_count": null,
   "id": "b0e237ba",
   "metadata": {},
   "outputs": [],
   "source": []
  }
 ],
 "metadata": {
  "kernelspec": {
   "display_name": "Python 3",
   "language": "python",
   "name": "python3"
  },
  "language_info": {
   "codemirror_mode": {
    "name": "ipython",
    "version": 3
   },
   "file_extension": ".py",
   "mimetype": "text/x-python",
   "name": "python",
   "nbconvert_exporter": "python",
   "pygments_lexer": "ipython3",
   "version": "3.8.8"
  }
 },
 "nbformat": 4,
 "nbformat_minor": 5
}
